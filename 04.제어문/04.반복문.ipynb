{
 "cells": [
  {
   "cell_type": "code",
   "execution_count": 1,
   "id": "dfa6d6d0",
   "metadata": {},
   "outputs": [
    {
     "name": "stdout",
     "output_type": "stream",
     "text": [
      "말티즈\n",
      "말티즈\n",
      "말티즈\n"
     ]
    }
   ],
   "source": [
    "for i in range(3):\n",
    "    print(\"말티즈\")"
   ]
  },
  {
   "cell_type": "code",
   "execution_count": 2,
   "id": "a4c5f5c6",
   "metadata": {},
   "outputs": [
    {
     "name": "stdout",
     "output_type": "stream",
     "text": [
      "푸들\n",
      "말티즈\n",
      "푸들\n",
      "말티즈\n",
      "푸들\n",
      "말티즈\n"
     ]
    }
   ],
   "source": [
    "for i in range(3):\n",
    "    print(\"푸들\")\n",
    "    print(\"말티즈\")"
   ]
  },
  {
   "cell_type": "code",
   "execution_count": 3,
   "id": "015d8a07",
   "metadata": {},
   "outputs": [
    {
     "name": "stdout",
     "output_type": "stream",
     "text": [
      "0\n",
      "1\n",
      "2\n"
     ]
    }
   ],
   "source": [
    "for i in range(3):\n",
    "    print(i)"
   ]
  },
  {
   "cell_type": "code",
   "execution_count": null,
   "id": "54eb7bb9",
   "metadata": {},
   "outputs": [
    {
     "name": "stdout",
     "output_type": "stream",
     "text": [
      "1번 과제 시작\n",
      "과제 완료\n",
      "2번 과제 시작\n",
      "과제 완료\n",
      "3번 과제 시작\n",
      "과제 완료\n",
      "4번 과제 시작\n",
      "과제 완료\n"
     ]
    }
   ],
   "source": [
    "for i in range(4):\n",
    "    print(f\"{i+1}번 과제 시작\")#f-string(문자열 안에 변수 삽입)\n",
    "    print(\"과제 완료\")"
   ]
  },
  {
   "cell_type": "code",
   "execution_count": null,
   "id": "ef3b566a",
   "metadata": {},
   "outputs": [
    {
     "name": "stdout",
     "output_type": "stream",
     "text": [
      "1\n",
      "2\n",
      "3\n"
     ]
    }
   ],
   "source": [
    "for i in range(1,4): #1부터 시작해서 3까지\n",
    "    print(i)"
   ]
  },
  {
   "cell_type": "code",
   "execution_count": null,
   "id": "77b8a50b",
   "metadata": {},
   "outputs": [
    {
     "name": "stdout",
     "output_type": "stream",
     "text": [
      "1\n",
      "3\n",
      "5\n",
      "7\n",
      "9\n"
     ]
    }
   ],
   "source": [
    "for i in range(1,10,2):#1부터 9까지 중에 2씩 건너뜀\n",
    "    print(i)"
   ]
  },
  {
   "cell_type": "code",
   "execution_count": 7,
   "id": "35e0625b",
   "metadata": {},
   "outputs": [
    {
     "name": "stdout",
     "output_type": "stream",
     "text": [
      "1번째 강아지\n",
      "강아지를 위한 장난감 준비 중\n",
      "장난감 준비 완료\n",
      "2번째 강아지\n",
      "강아지를 위한 장난감 준비 중\n",
      "장난감 준비 완료\n",
      "3번째 강아지\n",
      "강아지를 위한 장난감 준비 중\n",
      "장난감 준비 완료\n"
     ]
    }
   ],
   "source": [
    "for i in range(3):\n",
    "    print(f\"{i+1}번째 강아지\")\n",
    "    print(\"강아지를 위한 장난감 준비 중\")\n",
    "    print(\"장난감 준비 완료\")"
   ]
  },
  {
   "cell_type": "code",
   "execution_count": 10,
   "id": "a072e5f0",
   "metadata": {},
   "outputs": [
    {
     "name": "stdout",
     "output_type": "stream",
     "text": [
      "1번째 강아지\n",
      "강아지를 위한 장난감 준비 중\n",
      "장난감 준비 완료\n",
      "\n",
      "2번째 강아지\n",
      "강아지를 위한 장난감 준비 중\n",
      "장난감 준비 완료\n",
      "\n",
      "3번째 강아지\n",
      "강아지를 위한 장난감 준비 중\n",
      "장난감 준비 완료\n",
      "\n"
     ]
    }
   ],
   "source": [
    "for i in range(1,4):\n",
    "    print(f\"{i}번째 강아지\")\n",
    "    print(\"강아지를 위한 장난감 준비 중\")\n",
    "    print(\"장난감 준비 완료\\n\")"
   ]
  },
  {
   "cell_type": "code",
   "execution_count": 14,
   "id": "f053bec5",
   "metadata": {},
   "outputs": [
    {
     "name": "stdout",
     "output_type": "stream",
     "text": [
      "1\n",
      "3\n",
      "6\n",
      "10\n",
      "15\n",
      "21\n",
      "28\n",
      "36\n",
      "45\n",
      "55\n"
     ]
    }
   ],
   "source": [
    "sum = 0\n",
    "for i in range(1,11):\n",
    "    sum = sum + i\n",
    "    print(sum)"
   ]
  },
  {
   "cell_type": "code",
   "execution_count": 13,
   "id": "96bd618c",
   "metadata": {},
   "outputs": [
    {
     "name": "stdout",
     "output_type": "stream",
     "text": [
      "55\n"
     ]
    }
   ],
   "source": [
    "sum = 0\n",
    "for i in range(1,11):\n",
    "    sum = sum + i\n",
    "print(sum)"
   ]
  },
  {
   "cell_type": "code",
   "execution_count": 16,
   "id": "f601530d",
   "metadata": {},
   "outputs": [
    {
     "name": "stdout",
     "output_type": "stream",
     "text": [
      "hello\n",
      "hello\n",
      "hello\n"
     ]
    }
   ],
   "source": [
    "i = 0\n",
    "while i < 3:\n",
    "    print(\"hello\")\n",
    "    i+=1"
   ]
  },
  {
   "cell_type": "code",
   "execution_count": null,
   "id": "86452a07",
   "metadata": {},
   "outputs": [
    {
     "ename": "TypeError",
     "evalue": "can only concatenate str (not \"int\") to str",
     "output_type": "error",
     "traceback": [
      "\u001b[31m---------------------------------------------------------------------------\u001b[39m",
      "\u001b[31mTypeError\u001b[39m                                 Traceback (most recent call last)",
      "\u001b[36mCell\u001b[39m\u001b[36m \u001b[39m\u001b[32mIn[19]\u001b[39m\u001b[32m, line 3\u001b[39m\n\u001b[32m      1\u001b[39m n = \u001b[38;5;28mint\u001b[39m(\u001b[38;5;28minput\u001b[39m(\u001b[33m\"\u001b[39m\u001b[33m몇단을 출력할까요?\u001b[39m\u001b[33m\"\u001b[39m))\n\u001b[32m      2\u001b[39m \u001b[38;5;28;01mfor\u001b[39;00m i \u001b[38;5;129;01min\u001b[39;00m \u001b[38;5;28mrange\u001b[39m(\u001b[32m1\u001b[39m,\u001b[32m10\u001b[39m):\n\u001b[32m----> \u001b[39m\u001b[32m3\u001b[39m     \u001b[38;5;28mprint\u001b[39m(\u001b[33;43mf\u001b[39;49m\u001b[33;43m\"\u001b[39;49m\u001b[38;5;132;43;01m{\u001b[39;49;00m\u001b[43mn\u001b[49m\u001b[38;5;132;43;01m}\u001b[39;49;00m\u001b[33;43m X \u001b[39;49m\u001b[38;5;132;43;01m{\u001b[39;49;00m\u001b[43mi\u001b[49m\u001b[38;5;132;43;01m}\u001b[39;49;00m\u001b[33;43m=\u001b[39;49m\u001b[33;43m\"\u001b[39;49m\u001b[43m+\u001b[49m\u001b[43mn\u001b[49m\u001b[43m*\u001b[49m\u001b[43mi\u001b[49m)\n",
      "\u001b[31mTypeError\u001b[39m: can only concatenate str (not \"int\") to str"
     ]
    }
   ],
   "source": [
    "n = int(input(\"몇단을 출력할까요?\"))\n",
    "for i in range(1,10):\n",
    "    print(f\"{n} X {i}=\"+n*i)\n",
    "#f\"{n} X {i}=\" 은 문자열임 (str)\n",
    "#n * i 는 숫자임 (int)\n",
    "#파이썬에서는 타입이 달라서 TypeError 발생"
   ]
  },
  {
   "cell_type": "code",
   "execution_count": 20,
   "id": "0c3d558b",
   "metadata": {},
   "outputs": [
    {
     "name": "stdout",
     "output_type": "stream",
     "text": [
      "5 X 1=5\n",
      "5 X 2=10\n",
      "5 X 3=15\n",
      "5 X 4=20\n",
      "5 X 5=25\n",
      "5 X 6=30\n",
      "5 X 7=35\n",
      "5 X 8=40\n",
      "5 X 9=45\n"
     ]
    }
   ],
   "source": [
    "n = int(input(\"몇단을 출력할까요?\"))\n",
    "for i in range(1,10):\n",
    "    print(f\"{n} X {i}=\"+str(n*i))"
   ]
  },
  {
   "cell_type": "code",
   "execution_count": 21,
   "id": "5fcf056c",
   "metadata": {},
   "outputs": [
    {
     "name": "stdout",
     "output_type": "stream",
     "text": [
      "8 X 1=8\n",
      "8 X 2=16\n",
      "8 X 3=24\n",
      "8 X 4=32\n",
      "8 X 5=40\n",
      "8 X 6=48\n",
      "8 X 7=56\n",
      "8 X 8=64\n",
      "8 X 9=72\n"
     ]
    }
   ],
   "source": [
    "n = int(input(\"몇단을 출력할까요?\"))\n",
    "for i in range(1,10):\n",
    "    print(f\"{n} X {i}={n*i}\")"
   ]
  },
  {
   "cell_type": "code",
   "execution_count": null,
   "id": "0805c98b",
   "metadata": {},
   "outputs": [],
   "source": [
    "n = int(input(\"구구단을 입력하세요\"))\n",
    "while i < 10:\n",
    "    print(f\"{n}X{i}={n*i}\")\n",
    "    i=i+1\n",
    "#i변수를 while문 밖에서 1로 초기화 필요"
   ]
  },
  {
   "cell_type": "code",
   "execution_count": 26,
   "id": "bec1fa68",
   "metadata": {},
   "outputs": [
    {
     "name": "stdout",
     "output_type": "stream",
     "text": [
      "4X1=4\n",
      "4X2=8\n",
      "4X3=12\n",
      "4X4=16\n",
      "4X5=20\n",
      "4X6=24\n",
      "4X7=28\n",
      "4X8=32\n",
      "4X9=36\n"
     ]
    }
   ],
   "source": [
    "n = int(input(\"구구단을 입력하세요\"))\n",
    "i = 1\n",
    "while i < 10:\n",
    "    print(f\"{n}X{i}={n*i}\")\n",
    "    i=i+1"
   ]
  },
  {
   "cell_type": "code",
   "execution_count": null,
   "id": "b877779d",
   "metadata": {},
   "outputs": [],
   "source": [
    "#무한반복문\n",
    "while True:\n",
    "    반복할 명령\n",
    "    if 조건:\n",
    "        break"
   ]
  },
  {
   "cell_type": "code",
   "execution_count": 28,
   "id": "e158eef7",
   "metadata": {},
   "outputs": [
    {
     "name": "stdout",
     "output_type": "stream",
     "text": [
      "로그인 실패\n",
      "로그인 실패\n",
      "로그인 실패\n",
      "로그인 성공\n"
     ]
    }
   ],
   "source": [
    "while True:\n",
    "    pw = int(input(\"비밀번호를 입력하세요\"))\n",
    "    if pw == 1234:\n",
    "        print(\"로그인 성공\")\n",
    "        break\n",
    "    else:\n",
    "        print(\"로그인 실패\")"
   ]
  },
  {
   "cell_type": "code",
   "execution_count": 30,
   "id": "556fcf37",
   "metadata": {},
   "outputs": [
    {
     "name": "stdout",
     "output_type": "stream",
     "text": [
      "로그인 실패\n",
      "로그인 성공\n"
     ]
    }
   ],
   "source": [
    "password = \"1234\"\n",
    "while True:\n",
    "    input_pass = input(\"비밀번호를 입력하세요:\")\n",
    "    if input_pass == password:\n",
    "        print(\"로그인 성공\")\n",
    "        break\n",
    "    else:\n",
    "        print(\"로그인 실패\")\n"
   ]
  }
 ],
 "metadata": {
  "kernelspec": {
   "display_name": "Python 3",
   "language": "python",
   "name": "python3"
  },
  "language_info": {
   "codemirror_mode": {
    "name": "ipython",
    "version": 3
   },
   "file_extension": ".py",
   "mimetype": "text/x-python",
   "name": "python",
   "nbconvert_exporter": "python",
   "pygments_lexer": "ipython3",
   "version": "3.13.3"
  }
 },
 "nbformat": 4,
 "nbformat_minor": 5
}
