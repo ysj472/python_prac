{
 "cells": [
  {
   "cell_type": "code",
   "execution_count": null,
   "id": "24982494",
   "metadata": {},
   "outputs": [],
   "source": [
    "#조건문\n",
    "if 조건:(콜론:명령블록을 시작하겠다)\n",
    "    명령1\n",
    "    명령2\n",
    "    명령3\n",
    "(반드시 조건에는 들여쓰기)"
   ]
  },
  {
   "cell_type": "code",
   "execution_count": 1,
   "id": "49d1e7b6",
   "metadata": {},
   "outputs": [
    {
     "name": "stdout",
     "output_type": "stream",
     "text": [
      "로그인 성공\n"
     ]
    }
   ],
   "source": [
    "origin_pass = \"1234\"\n",
    "input_pass = input()\n",
    "if origin_pass == input_pass:\n",
    "    print(\"로그인 성공\")"
   ]
  },
  {
   "cell_type": "code",
   "execution_count": 2,
   "id": "8d2569e0",
   "metadata": {},
   "outputs": [
    {
     "name": "stdout",
     "output_type": "stream",
     "text": [
      "로그인 실패\n"
     ]
    }
   ],
   "source": [
    "origin_pass = \"1234\"\n",
    "input_pass = input()\n",
    "if origin_pass == input_pass:\n",
    "    print(\"로그인 성공\")\n",
    "else:\n",
    "    print(\"로그인 실패\")"
   ]
  },
  {
   "cell_type": "code",
   "execution_count": 4,
   "id": "06f8f1cc",
   "metadata": {},
   "outputs": [
    {
     "name": "stdout",
     "output_type": "stream",
     "text": [
      "비밀번호를 입력하세요\n"
     ]
    }
   ],
   "source": [
    "origin_pass = \"1234\"\n",
    "input_pass = input()\n",
    "if origin_pass == input_pass:\n",
    "    print(\"로그인 성공\")\n",
    "elif input_pass == \"\":\n",
    "    print(\"비밀번호를 입력하세요\")\n",
    "else:\n",
    "    print(\"로그인 실패\")"
   ]
  },
  {
   "cell_type": "code",
   "execution_count": 5,
   "id": "6491c2c6",
   "metadata": {},
   "outputs": [
    {
     "ename": "SyntaxError",
     "evalue": "expected ':' (2375552235.py, line 3)",
     "output_type": "error",
     "traceback": [
      "  \u001b[36mCell\u001b[39m\u001b[36m \u001b[39m\u001b[32mIn[5]\u001b[39m\u001b[32m, line 3\u001b[39m\n\u001b[31m    \u001b[39m\u001b[31mif origin_pass == input_pass #:(콜론 없어서 syntaxError)\u001b[39m\n                                 ^\n\u001b[31mSyntaxError\u001b[39m\u001b[31m:\u001b[39m expected ':'\n"
     ]
    }
   ],
   "source": [
    "origin_pass = \"1234\"\n",
    "input_pass = input()\n",
    "if origin_pass == input_pass #:(콜론 없어서 syntaxError)\n",
    "    print(\"로그인 성공\")\n",
    "else:\n",
    "    print(\"로그인 실패\")"
   ]
  },
  {
   "cell_type": "code",
   "execution_count": null,
   "id": "6d1f82b9",
   "metadata": {},
   "outputs": [
    {
     "ename": "IndentationError",
     "evalue": "expected an indented block after 'if' statement on line 3 (1875680985.py, line 4)",
     "output_type": "error",
     "traceback": [
      "  \u001b[36mCell\u001b[39m\u001b[36m \u001b[39m\u001b[32mIn[6]\u001b[39m\u001b[32m, line 4\u001b[39m\n\u001b[31m    \u001b[39m\u001b[31mprint(\"로그인 성공\")\u001b[39m\n    ^\n\u001b[31mIndentationError\u001b[39m\u001b[31m:\u001b[39m expected an indented block after 'if' statement on line 3\n"
     ]
    }
   ],
   "source": [
    "origin_pass = \"1234\"\n",
    "input_pass = input()\n",
    "if origin_pass == input_pass:\n",
    "print(\"로그인 성공\")#IndentationError(들여쓰기 애러)\n",
    "else:\n",
    "    print(\"로그인 실패\")"
   ]
  }
 ],
 "metadata": {
  "kernelspec": {
   "display_name": "Python 3",
   "language": "python",
   "name": "python3"
  },
  "language_info": {
   "codemirror_mode": {
    "name": "ipython",
    "version": 3
   },
   "file_extension": ".py",
   "mimetype": "text/x-python",
   "name": "python",
   "nbconvert_exporter": "python",
   "pygments_lexer": "ipython3",
   "version": "3.13.3"
  }
 },
 "nbformat": 4,
 "nbformat_minor": 5
}
