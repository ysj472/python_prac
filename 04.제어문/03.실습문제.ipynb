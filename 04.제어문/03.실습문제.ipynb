{
 "cells": [
  {
   "cell_type": "code",
   "execution_count": null,
   "id": "b6212d97",
   "metadata": {},
   "outputs": [
    {
     "ename": "TypeError",
     "evalue": "'>' not supported between instances of 'str' and 'int'",
     "output_type": "error",
     "traceback": [
      "\u001b[31m---------------------------------------------------------------------------\u001b[39m",
      "\u001b[31mTypeError\u001b[39m                                 Traceback (most recent call last)",
      "\u001b[36mCell\u001b[39m\u001b[36m \u001b[39m\u001b[32mIn[3]\u001b[39m\u001b[32m, line 3\u001b[39m\n\u001b[32m      1\u001b[39m number = \u001b[38;5;28minput\u001b[39m(\u001b[33m\"\u001b[39m\u001b[33m현재구독자수를 입력하세요:\u001b[39m\u001b[33m\"\u001b[39m)\n\u001b[32m----> \u001b[39m\u001b[32m3\u001b[39m \u001b[38;5;28;01mif\u001b[39;00m \u001b[43mnumber\u001b[49m\u001b[43m \u001b[49m\u001b[43m>\u001b[49m\u001b[43m \u001b[49m\u001b[32;43m800\u001b[39;49m:\n\u001b[32m      4\u001b[39m     \u001b[38;5;28mprint\u001b[39m(\u001b[33m\"\u001b[39m\u001b[33m수익 창출 가능\u001b[39m\u001b[33m\"\u001b[39m)\n\u001b[32m      5\u001b[39m \u001b[38;5;28;01melse\u001b[39;00m:\n",
      "\u001b[31mTypeError\u001b[39m: '>' not supported between instances of 'str' and 'int'"
     ]
    }
   ],
   "source": [
    "number = input(\"현재구독자수를 입력하세요:\")\n",
    "#문자열을 int형으로 바꿈\n",
    "\n",
    "if number > 800:\n",
    "    print(\"수익 창출 가능\")\n",
    "else:\n",
    "    print(\"수익 창출 불가능\")"
   ]
  },
  {
   "cell_type": "code",
   "execution_count": 4,
   "id": "755850d7",
   "metadata": {},
   "outputs": [
    {
     "name": "stdout",
     "output_type": "stream",
     "text": [
      "수익 창출 불가능\n"
     ]
    }
   ],
   "source": [
    "number = int(input(\"현재구독자수를 입력하세요:\"))\n",
    "#문자열을 int형으로 바꿈\n",
    "\n",
    "if number > 800:\n",
    "    print(\"수익 창출 가능\")\n",
    "else:\n",
    "    print(\"수익 창출 불가능\")"
   ]
  },
  {
   "cell_type": "code",
   "execution_count": 5,
   "id": "04ca2c12",
   "metadata": {},
   "outputs": [
    {
     "name": "stdout",
     "output_type": "stream",
     "text": [
      "휴대폰을 30분 사용 가능합니다\n"
     ]
    }
   ],
   "source": [
    "time = int(input(\"공부 시간을 입력하세요\"))\n",
    "\n",
    "if time >= 10:\n",
    "    print(\"휴대폰 잠금이 해제됩니다.\")\n",
    "elif time >= 5:\n",
    "    print(\"휴대폰을 30분 사용 가능합니다\")\n",
    "else:\n",
    "    print(\"휴대폰 사용이 불가능합니다\")"
   ]
  }
 ],
 "metadata": {
  "kernelspec": {
   "display_name": "Python 3",
   "language": "python",
   "name": "python3"
  },
  "language_info": {
   "codemirror_mode": {
    "name": "ipython",
    "version": 3
   },
   "file_extension": ".py",
   "mimetype": "text/x-python",
   "name": "python",
   "nbconvert_exporter": "python",
   "pygments_lexer": "ipython3",
   "version": "3.13.3"
  }
 },
 "nbformat": 4,
 "nbformat_minor": 5
}
