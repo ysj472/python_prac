{
 "cells": [
  {
   "cell_type": "code",
   "execution_count": null,
   "id": "5d532d71",
   "metadata": {},
   "outputs": [
    {
     "name": "stdout",
     "output_type": "stream",
     "text": [
      "파이리꼬부기\n",
      "파이리파이리꼬부기\n"
     ]
    }
   ],
   "source": [
    "#문자열 연산\n",
    "string1 = \"파이리\" + \"꼬부기\"\n",
    "string2 = \"파이리\" + string1\n",
    "print(string1)\n",
    "print(string2)"
   ]
  },
  {
   "cell_type": "code",
   "execution_count": 2,
   "id": "55575cd3",
   "metadata": {},
   "outputs": [
    {
     "name": "stdout",
     "output_type": "stream",
     "text": [
      "15 5 50 2.0\n"
     ]
    }
   ],
   "source": [
    "#숫자 연산\n",
    "a = 10+5\n",
    "b = 10-5\n",
    "c = 10*5\n",
    "d = 10/5\n",
    "print(a,b,c,d)"
   ]
  }
 ],
 "metadata": {
  "kernelspec": {
   "display_name": "Python 3",
   "language": "python",
   "name": "python3"
  },
  "language_info": {
   "codemirror_mode": {
    "name": "ipython",
    "version": 3
   },
   "file_extension": ".py",
   "mimetype": "text/x-python",
   "name": "python",
   "nbconvert_exporter": "python",
   "pygments_lexer": "ipython3",
   "version": "3.13.3"
  }
 },
 "nbformat": 4,
 "nbformat_minor": 5
}
