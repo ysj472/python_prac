{
 "cells": [
  {
   "cell_type": "code",
   "execution_count": 1,
   "id": "0db76869",
   "metadata": {},
   "outputs": [
    {
     "name": "stdout",
     "output_type": "stream",
     "text": [
      "입력한 데이터 배고파\n"
     ]
    }
   ],
   "source": [
    "x = input()\n",
    "print(\"입력한 데이터\", x)"
   ]
  },
  {
   "cell_type": "code",
   "execution_count": 2,
   "id": "6c4b0c96",
   "metadata": {},
   "outputs": [
    {
     "name": "stdout",
     "output_type": "stream",
     "text": [
      "가격: 3000\n"
     ]
    }
   ],
   "source": [
    "price = input(\"가격을 입력하세요:\")\n",
    "print(\"가격:\",price)"
   ]
  }
 ],
 "metadata": {
  "kernelspec": {
   "display_name": "Python 3",
   "language": "python",
   "name": "python3"
  },
  "language_info": {
   "codemirror_mode": {
    "name": "ipython",
    "version": 3
   },
   "file_extension": ".py",
   "mimetype": "text/x-python",
   "name": "python",
   "nbconvert_exporter": "python",
   "pygments_lexer": "ipython3",
   "version": "3.13.3"
  }
 },
 "nbformat": 4,
 "nbformat_minor": 5
}
