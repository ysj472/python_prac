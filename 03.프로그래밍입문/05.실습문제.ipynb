{
 "cells": [
  {
   "cell_type": "code",
   "execution_count": 6,
   "id": "f363e2e4",
   "metadata": {},
   "outputs": [
    {
     "name": "stdout",
     "output_type": "stream",
     "text": [
      "이름: 유미\n",
      "레벨: 6\n",
      "체력: 950\n",
      "대사: 나랑 유미랑\n"
     ]
    }
   ],
   "source": [
    "#1. 각 정보를 변수에 담아서 출력\n",
    "name = \"유미\"\n",
    "level = 6\n",
    "health = 950\n",
    "speak = \"나랑 유미랑\"\n",
    "\n",
    "print(\"이름: \"+name)\n",
    "print(\"레벨: \"+str(level))\n",
    "print(\"체력: \"+str(health))\n",
    "print(\"대사: \"+speak)"
   ]
  },
  {
   "cell_type": "code",
   "execution_count": 7,
   "id": "41563dc4",
   "metadata": {},
   "outputs": [
    {
     "name": "stdout",
     "output_type": "stream",
     "text": [
      "유미 6 950 나랑 유미랑\n"
     ]
    }
   ],
   "source": [
    "print(name, level, health, speak)"
   ]
  },
  {
   "cell_type": "code",
   "execution_count": 10,
   "id": "1a456215",
   "metadata": {},
   "outputs": [],
   "source": [
    "#2. 사용자로부터 이름을 입력받아서 출력문 완성\n",
    "n = input()"
   ]
  },
  {
   "cell_type": "code",
   "execution_count": 11,
   "id": "ab8d2cc8",
   "metadata": {},
   "outputs": [
    {
     "name": "stdout",
     "output_type": "stream",
     "text": [
      "안녕하세요유닛입니다\n"
     ]
    }
   ],
   "source": [
    "print(\"안녕하세요\"+n+\"입니다\")"
   ]
  },
  {
   "cell_type": "code",
   "execution_count": 12,
   "id": "f028353b",
   "metadata": {},
   "outputs": [],
   "source": [
    "#3. 이름, 레벨을 사용자로부터 입력받아 출력문 완성\n",
    "pname = input(\"포켓몬 이름을 입력하세요:\")\n",
    "plevel = input(\"레벨 이름을 입력하세요:\")"
   ]
  },
  {
   "cell_type": "code",
   "execution_count": 13,
   "id": "1db42fe5",
   "metadata": {},
   "outputs": [
    {
     "name": "stdout",
     "output_type": "stream",
     "text": [
      "이상해 8\n"
     ]
    }
   ],
   "source": [
    "print(pname, plevel)"
   ]
  }
 ],
 "metadata": {
  "kernelspec": {
   "display_name": "Python 3",
   "language": "python",
   "name": "python3"
  },
  "language_info": {
   "codemirror_mode": {
    "name": "ipython",
    "version": 3
   },
   "file_extension": ".py",
   "mimetype": "text/x-python",
   "name": "python",
   "nbconvert_exporter": "python",
   "pygments_lexer": "ipython3",
   "version": "3.13.3"
  }
 },
 "nbformat": 4,
 "nbformat_minor": 5
}
