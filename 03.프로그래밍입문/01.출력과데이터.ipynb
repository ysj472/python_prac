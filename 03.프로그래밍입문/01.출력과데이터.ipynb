{
 "cells": [
  {
   "cell_type": "code",
   "execution_count": 2,
   "id": "df2f3047",
   "metadata": {},
   "outputs": [
    {
     "name": "stdout",
     "output_type": "stream",
     "text": [
      "startcoding\n"
     ]
    }
   ],
   "source": [
    "print(\"startcoding\")"
   ]
  },
  {
   "cell_type": "code",
   "execution_count": null,
   "id": "48b686dc",
   "metadata": {},
   "outputs": [
    {
     "ename": "_IncompleteInputError",
     "evalue": "incomplete input (2884923961.py, line 1)",
     "output_type": "error",
     "traceback": [
      "  \u001b[36mCell\u001b[39m\u001b[36m \u001b[39m\u001b[32mIn[3]\u001b[39m\u001b[32m, line 1\u001b[39m\n\u001b[31m    \u001b[39m\u001b[31mprint(\"start\"\u001b[39m\n                 ^\n\u001b[31m_IncompleteInputError\u001b[39m\u001b[31m:\u001b[39m incomplete input\n"
     ]
    }
   ],
   "source": [
    "print(\"start\" #_IncompleteInputError(문법오류)"
   ]
  },
  {
   "cell_type": "code",
   "execution_count": null,
   "id": "83a63a7d",
   "metadata": {},
   "outputs": [
    {
     "ename": "SyntaxError",
     "evalue": "unterminated string literal (detected at line 1) (2382696565.py, line 1)",
     "output_type": "error",
     "traceback": [
      "  \u001b[36mCell\u001b[39m\u001b[36m \u001b[39m\u001b[32mIn[4]\u001b[39m\u001b[32m, line 1\u001b[39m\n\u001b[31m    \u001b[39m\u001b[31mprint(\"startcoding')\u001b[39m\n          ^\n\u001b[31mSyntaxError\u001b[39m\u001b[31m:\u001b[39m unterminated string literal (detected at line 1)\n"
     ]
    }
   ],
   "source": [
    "print(\"startcoding')\n",
    "#문자열이 종료되지 않음"
   ]
  },
  {
   "cell_type": "code",
   "execution_count": 5,
   "id": "fc993a60",
   "metadata": {},
   "outputs": [
    {
     "name": "stdout",
     "output_type": "stream",
     "text": [
      "ㅎㅇ\n",
      "ㅎㅇ2\n",
      "ㅎㅇ3\n"
     ]
    }
   ],
   "source": [
    "#코드 실행 순서\n",
    "print(\"ㅎㅇ\")\n",
    "print(\"ㅎㅇ2\")\n",
    "print(\"ㅎㅇ3\")"
   ]
  },
  {
   "cell_type": "code",
   "execution_count": 6,
   "id": "16c4aa8a",
   "metadata": {},
   "outputs": [
    {
     "name": "stdout",
     "output_type": "stream",
     "text": [
      "ㅁ ㅇ ㅍ\n"
     ]
    }
   ],
   "source": [
    "print(\"ㅁ\",\"ㅇ\",\"ㅍ\")"
   ]
  },
  {
   "cell_type": "code",
   "execution_count": 7,
   "id": "d148b64b",
   "metadata": {},
   "outputs": [
    {
     "data": {
      "text/plain": [
       "'startcoding'"
      ]
     },
     "execution_count": 7,
     "metadata": {},
     "output_type": "execute_result"
    }
   ],
   "source": [
    "#문자열\n",
    "\"startcoding\"\n",
    "'startcoding'"
   ]
  },
  {
   "cell_type": "code",
   "execution_count": 8,
   "id": "71749eda",
   "metadata": {},
   "outputs": [
    {
     "data": {
      "text/plain": [
       "-20"
      ]
     },
     "execution_count": 8,
     "metadata": {},
     "output_type": "execute_result"
    }
   ],
   "source": [
    "#정수(integer, int)\n",
    "5\n",
    "-20"
   ]
  },
  {
   "cell_type": "code",
   "execution_count": 9,
   "id": "03aeb75a",
   "metadata": {},
   "outputs": [
    {
     "data": {
      "text/plain": [
       "-2.5"
      ]
     },
     "execution_count": 9,
     "metadata": {},
     "output_type": "execute_result"
    }
   ],
   "source": [
    "#실수(float)\n",
    "3.14\n",
    "-2.5"
   ]
  },
  {
   "cell_type": "code",
   "execution_count": 10,
   "id": "9c40b6ac",
   "metadata": {},
   "outputs": [
    {
     "data": {
      "text/plain": [
       "False"
      ]
     },
     "execution_count": 10,
     "metadata": {},
     "output_type": "execute_result"
    }
   ],
   "source": [
    "#논리데이터(bool, boolean)\n",
    "True\n",
    "False"
   ]
  }
 ],
 "metadata": {
  "kernelspec": {
   "display_name": "Python 3",
   "language": "python",
   "name": "python3"
  },
  "language_info": {
   "codemirror_mode": {
    "name": "ipython",
    "version": 3
   },
   "file_extension": ".py",
   "mimetype": "text/x-python",
   "name": "python",
   "nbconvert_exporter": "python",
   "pygments_lexer": "ipython3",
   "version": "3.13.3"
  }
 },
 "nbformat": 4,
 "nbformat_minor": 5
}
