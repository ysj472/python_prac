{
 "cells": [
  {
   "cell_type": "code",
   "execution_count": 1,
   "id": "8f4139cb",
   "metadata": {},
   "outputs": [
    {
     "name": "stdout",
     "output_type": "stream",
     "text": [
      "티모\n"
     ]
    }
   ],
   "source": [
    "champ_name=\"티모\"\n",
    "champ_level=10\n",
    "champ_demage=90\n",
    "champ_skill=\"버섯깔기\"\n",
    "\n",
    "print(champ_name)"
   ]
  },
  {
   "cell_type": "code",
   "execution_count": 2,
   "id": "4e2c80a1",
   "metadata": {},
   "outputs": [
    {
     "name": "stdout",
     "output_type": "stream",
     "text": [
      "10 90\n"
     ]
    }
   ],
   "source": [
    "print(champ_level, champ_demage)"
   ]
  },
  {
   "cell_type": "code",
   "execution_count": 3,
   "id": "94f5dc60",
   "metadata": {},
   "outputs": [
    {
     "name": "stdout",
     "output_type": "stream",
     "text": [
      "챔피언 : 티모\n",
      "스킬 : 버섯깔기\n"
     ]
    }
   ],
   "source": [
    "print(\"챔피언 :\", champ_name)\n",
    "print(\"스킬 :\", champ_skill)"
   ]
  },
  {
   "cell_type": "code",
   "execution_count": 6,
   "id": "99770079",
   "metadata": {},
   "outputs": [],
   "source": [
    "champ_level = 11\n",
    "champ_demage = 95\n",
    "#재할당"
   ]
  },
  {
   "cell_type": "code",
   "execution_count": 7,
   "id": "294b00aa",
   "metadata": {},
   "outputs": [
    {
     "name": "stdout",
     "output_type": "stream",
     "text": [
      "11 95\n"
     ]
    }
   ],
   "source": [
    "print(champ_level, champ_demage)"
   ]
  },
  {
   "cell_type": "code",
   "execution_count": null,
   "id": "031fab7d",
   "metadata": {},
   "outputs": [
    {
     "ename": "NameError",
     "evalue": "name 'champ_msg' is not defined",
     "output_type": "error",
     "traceback": [
      "\u001b[31m---------------------------------------------------------------------------\u001b[39m",
      "\u001b[31mNameError\u001b[39m                                 Traceback (most recent call last)",
      "\u001b[36mCell\u001b[39m\u001b[36m \u001b[39m\u001b[32mIn[8]\u001b[39m\u001b[32m, line 1\u001b[39m\n\u001b[32m----> \u001b[39m\u001b[32m1\u001b[39m \u001b[38;5;28mprint\u001b[39m(\u001b[43mchamp_msg\u001b[49m)\n",
      "\u001b[31mNameError\u001b[39m: name 'champ_msg' is not defined"
     ]
    }
   ],
   "source": [
    "print(champ_msg)#정의되지 않은 변수"
   ]
  }
 ],
 "metadata": {
  "kernelspec": {
   "display_name": "Python 3",
   "language": "python",
   "name": "python3"
  },
  "language_info": {
   "codemirror_mode": {
    "name": "ipython",
    "version": 3
   },
   "file_extension": ".py",
   "mimetype": "text/x-python",
   "name": "python",
   "nbconvert_exporter": "python",
   "pygments_lexer": "ipython3",
   "version": "3.13.3"
  }
 },
 "nbformat": 4,
 "nbformat_minor": 5
}
