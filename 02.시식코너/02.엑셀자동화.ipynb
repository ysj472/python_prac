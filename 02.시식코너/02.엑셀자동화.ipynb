{
 "cells": [
  {
   "cell_type": "code",
   "execution_count": null,
   "id": "ffd79387",
   "metadata": {},
   "outputs": [],
   "source": [
    "pip install xlwings"
   ]
  },
  {
   "cell_type": "code",
   "execution_count": 8,
   "id": "d97c78cb",
   "metadata": {},
   "outputs": [],
   "source": [
    "import xlwings as xw\n",
    "\n",
    "wb = xw.Book()"
   ]
  },
  {
   "cell_type": "code",
   "execution_count": 9,
   "id": "2995e8f1",
   "metadata": {},
   "outputs": [],
   "source": [
    "ws = wb.sheets['sheet1']"
   ]
  },
  {
   "cell_type": "code",
   "execution_count": null,
   "id": "01629494",
   "metadata": {},
   "outputs": [],
   "source": [
    "ws.range('A1').value = \"피카츄\""
   ]
  },
  {
   "cell_type": "code",
   "execution_count": 11,
   "id": "a5343032",
   "metadata": {},
   "outputs": [],
   "source": [
    "ws.range('A2').value = [\"파이리\",\"꼬부기\"]"
   ]
  },
  {
   "cell_type": "code",
   "execution_count": 12,
   "id": "c1b85fc9",
   "metadata": {},
   "outputs": [],
   "source": [
    "ws.range('A2:B2').copy()"
   ]
  },
  {
   "cell_type": "code",
   "execution_count": 14,
   "id": "aa24affb",
   "metadata": {},
   "outputs": [],
   "source": [
    "ws.range('A3').paste()"
   ]
  },
  {
   "cell_type": "code",
   "execution_count": 15,
   "id": "7d25e717",
   "metadata": {},
   "outputs": [],
   "source": [
    "wb.save('포켓몬.xlsx')"
   ]
  }
 ],
 "metadata": {
  "kernelspec": {
   "display_name": "Python 3",
   "language": "python",
   "name": "python3"
  },
  "language_info": {
   "codemirror_mode": {
    "name": "ipython",
    "version": 3
   },
   "file_extension": ".py",
   "mimetype": "text/x-python",
   "name": "python",
   "nbconvert_exporter": "python",
   "pygments_lexer": "ipython3",
   "version": "3.13.3"
  }
 },
 "nbformat": 4,
 "nbformat_minor": 5
}
