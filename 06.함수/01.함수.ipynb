{
 "cells": [
  {
   "cell_type": "code",
   "execution_count": null,
   "metadata": {},
   "outputs": [],
   "source": [
    "#함수(print, input, append, len, items)"
   ]
  },
  {
   "cell_type": "code",
   "execution_count": null,
   "metadata": {},
   "outputs": [],
   "source": [
    "#함수 만드는 방법\n",
    "def 함수이름(매개변수1, 매개변수2):#매개변수는 없어도되고 여러개 있어도 됨\n",
    "    명령블록\n",
    "    return 반환값\n",
    "\n",
    "#함수사용법\n",
    "함수이름(인자1,인자2)\n",
    "\n",
    "매개변수: parameter\n",
    "인자: argument"
   ]
  },
  {
   "cell_type": "code",
   "execution_count": 2,
   "metadata": {},
   "outputs": [
    {
     "name": "stdout",
     "output_type": "stream",
     "text": [
      "새우와 참치를 이용해서 맛있는 요리를 시작합니다.\n",
      "요리완료\n"
     ]
    },
    {
     "data": {
      "text/plain": [
       "'새우참치볶음밥'"
      ]
     },
     "execution_count": 2,
     "metadata": {},
     "output_type": "execute_result"
    }
   ],
   "source": [
    "def easy_recipe(a,b):\n",
    "    print(f'{a}와 {b}를 이용해서 맛있는 요리를 시작합니다.')\n",
    "    result = a+b+\"볶음밥\"\n",
    "    print('요리완료')\n",
    "    return result\n",
    "\n",
    "easy_recipe('새우','참치')"
   ]
  },
  {
   "cell_type": "code",
   "execution_count": 3,
   "metadata": {},
   "outputs": [
    {
     "name": "stdout",
     "output_type": "stream",
     "text": [
      "치즈와 불닭를 이용해서 맛있는 요리를 시작합니다.\n",
      "요리완료\n"
     ]
    },
    {
     "data": {
      "text/plain": [
       "'치즈불닭볶음밥'"
      ]
     },
     "execution_count": 3,
     "metadata": {},
     "output_type": "execute_result"
    }
   ],
   "source": [
    "dish = easy_recipe(\"치즈\",\"불닭\")\n",
    "dish"
   ]
  },
  {
   "cell_type": "code",
   "execution_count": 4,
   "metadata": {},
   "outputs": [],
   "source": [
    "def score(a,b,c):\n",
    "    avg = (a+b+c) / 3\n",
    "    return avg"
   ]
  },
  {
   "cell_type": "code",
   "execution_count": 5,
   "metadata": {},
   "outputs": [
    {
     "data": {
      "text/plain": [
       "15000.0"
      ]
     },
     "execution_count": 5,
     "metadata": {},
     "output_type": "execute_result"
    }
   ],
   "source": [
    "score(12000,15000,18000)"
   ]
  },
  {
   "cell_type": "code",
   "execution_count": 6,
   "metadata": {},
   "outputs": [],
   "source": [
    "def kda(k, d, a):\n",
    "    k = (k+a)/d\n",
    "    return k"
   ]
  },
  {
   "cell_type": "code",
   "execution_count": 7,
   "metadata": {},
   "outputs": [
    {
     "data": {
      "text/plain": [
       "8.5"
      ]
     },
     "execution_count": 7,
     "metadata": {},
     "output_type": "execute_result"
    }
   ],
   "source": [
    "kda(10,2,7)"
   ]
  }
 ],
 "metadata": {
  "kernelspec": {
   "display_name": "Python 3",
   "language": "python",
   "name": "python3"
  },
  "language_info": {
   "codemirror_mode": {
    "name": "ipython",
    "version": 3
   },
   "file_extension": ".py",
   "mimetype": "text/x-python",
   "name": "python",
   "nbconvert_exporter": "python",
   "pygments_lexer": "ipython3",
   "version": "3.12.0"
  }
 },
 "nbformat": 4,
 "nbformat_minor": 2
}
