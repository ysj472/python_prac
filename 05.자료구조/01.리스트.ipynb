{
 "cells": [
  {
   "cell_type": "code",
   "execution_count": 1,
   "id": "96a4698a",
   "metadata": {},
   "outputs": [
    {
     "ename": "NameError",
     "evalue": "name '데이터' is not defined",
     "output_type": "error",
     "traceback": [
      "\u001b[1;31m---------------------------------------------------------------------------\u001b[0m",
      "\u001b[1;31mNameError\u001b[0m                                 Traceback (most recent call last)",
      "Cell \u001b[1;32mIn[1], line 2\u001b[0m\n\u001b[0;32m      1\u001b[0m \u001b[38;5;66;03m#리스트 만드는법\u001b[39;00m\n\u001b[1;32m----> 2\u001b[0m 변수 \u001b[38;5;241m=\u001b[39m [\u001b[43m데이터\u001b[49m,데이터,데이터]\n",
      "\u001b[1;31mNameError\u001b[0m: name '데이터' is not defined"
     ]
    }
   ],
   "source": [
    "#리스트 만드는법\n",
    "변수 = [데이터,데이터,데이터]"
   ]
  },
  {
   "cell_type": "code",
   "execution_count": 2,
   "id": "67d42f78",
   "metadata": {},
   "outputs": [
    {
     "data": {
      "text/plain": [
       "'네이버'"
      ]
     },
     "execution_count": 2,
     "metadata": {},
     "output_type": "execute_result"
    }
   ],
   "source": [
    "#데이터에 접근하기(인덱싱, indexing)\n",
    "company_list=[\"삼성전자\",\"sk하이닉스\",\"네이버\"]\n",
    "company_list[0]#인덱스번호(0부터 시작)\n",
    "company_list[1]\n",
    "company_list[2]"
   ]
  },
  {
   "cell_type": "code",
   "execution_count": 9,
   "id": "85f653ff",
   "metadata": {},
   "outputs": [],
   "source": [
    "#데이터에 추가하기\n",
    "company_list=[\"애플\",\"구글\",\"테슬라\"]\n",
    "company_list.append(\"마이크로소프트\")"
   ]
  },
  {
   "cell_type": "code",
   "execution_count": 7,
   "id": "7ebfd50a",
   "metadata": {},
   "outputs": [],
   "source": [
    "#데이터에 삭제하기\n",
    "company_list=[\"애플\",\"구글\",\"테슬라\"]\n",
    "del company_list[0]"
   ]
  },
  {
   "cell_type": "code",
   "execution_count": null,
   "id": "b25dcfa3",
   "metadata": {},
   "outputs": [
    {
     "data": {
      "text/plain": [
       "2"
      ]
     },
     "execution_count": 11,
     "metadata": {},
     "output_type": "execute_result"
    }
   ],
   "source": [
    "#리스트 길이\n",
    "company_list=[\"애플\",\"구글\",\"테슬라\"]\n",
    "len(company_list)"
   ]
  },
  {
   "cell_type": "code",
   "execution_count": null,
   "id": "ebb3d9d0",
   "metadata": {},
   "outputs": [],
   "source": [
    "#리스트 슬라이싱(slicing)\n",
    "num_list = [1,2,3,4,5,6,7,8]\n",
    "num_list[start:end]\n",
    "num_list[start:end:step]"
   ]
  },
  {
   "cell_type": "code",
   "execution_count": 1,
   "id": "f84ef989",
   "metadata": {},
   "outputs": [
    {
     "data": {
      "text/plain": [
       "['삼성전자', 'sk하이닉스', '네이버']"
      ]
     },
     "execution_count": 1,
     "metadata": {},
     "output_type": "execute_result"
    }
   ],
   "source": [
    "company_list=[\"삼성전자\",\"sk하이닉스\",\"네이버\"]\n",
    "company_list"
   ]
  },
  {
   "cell_type": "code",
   "execution_count": null,
   "id": "e551be5d",
   "metadata": {},
   "outputs": [
    {
     "data": {
      "text/plain": [
       "'네이버'"
      ]
     },
     "execution_count": 2,
     "metadata": {},
     "output_type": "execute_result"
    }
   ],
   "source": [
    "company_list[0]\n",
    "company_list[1]\n",
    "company_list[-1]#-1은 마지막 원소를 찾음"
   ]
  },
  {
   "cell_type": "code",
   "execution_count": 4,
   "id": "56f2c071",
   "metadata": {},
   "outputs": [
    {
     "data": {
      "text/plain": [
       "['애플', '구글', '테슬라']"
      ]
     },
     "execution_count": 4,
     "metadata": {},
     "output_type": "execute_result"
    }
   ],
   "source": [
    "company_list[0]=\"애플\"\n",
    "company_list[1]=\"구글\"\n",
    "company_list[2]=\"테슬라\"\n",
    "company_list"
   ]
  },
  {
   "cell_type": "code",
   "execution_count": 5,
   "id": "a064bb32",
   "metadata": {},
   "outputs": [
    {
     "data": {
      "text/plain": [
       "['애플', '구글', '테슬라', '마이크로소프트']"
      ]
     },
     "execution_count": 5,
     "metadata": {},
     "output_type": "execute_result"
    }
   ],
   "source": [
    "company_list.append(\"마이크로소프트\")\n",
    "company_list"
   ]
  },
  {
   "cell_type": "code",
   "execution_count": 6,
   "id": "069f3327",
   "metadata": {},
   "outputs": [
    {
     "data": {
      "text/plain": [
       "['구글', '테슬라', '마이크로소프트']"
      ]
     },
     "execution_count": 6,
     "metadata": {},
     "output_type": "execute_result"
    }
   ],
   "source": [
    "del company_list[0]\n",
    "company_list"
   ]
  },
  {
   "cell_type": "code",
   "execution_count": 15,
   "id": "070368c1",
   "metadata": {},
   "outputs": [
    {
     "data": {
      "text/plain": [
       "3"
      ]
     },
     "execution_count": 15,
     "metadata": {},
     "output_type": "execute_result"
    }
   ],
   "source": [
    "len (company_list)"
   ]
  },
  {
   "cell_type": "code",
   "execution_count": 16,
   "id": "f559c103",
   "metadata": {},
   "outputs": [
    {
     "data": {
      "text/plain": [
       "[1, 3, 5, 7]"
      ]
     },
     "execution_count": 16,
     "metadata": {},
     "output_type": "execute_result"
    }
   ],
   "source": [
    "#slicing\n",
    "num_list = [1,2,3,4,5,6,7,8]\n",
    "num_list[0:2]\n",
    "num_list[:2]#0생략가능\n",
    "num_list[1:4]#인덱스 0번째는 생략\n",
    "num_list[3:8]\n",
    "num_list[3:]#마지막 생략 가능\n",
    "num_list[::2]"
   ]
  },
  {
   "cell_type": "code",
   "execution_count": 17,
   "id": "6b15de23",
   "metadata": {},
   "outputs": [
    {
     "name": "stdout",
     "output_type": "stream",
     "text": [
      "대검을(를) 확인했습니다.\n",
      "창닫기\n",
      "포션을(를) 확인했습니다.\n",
      "창닫기\n",
      "마법서을(를) 확인했습니다.\n",
      "창닫기\n"
     ]
    }
   ],
   "source": [
    "#for문에서의 리스트 활용\n",
    "inventory = [\"대검\",\"포션\",\"마법서\"]\n",
    "\n",
    "for item in inventory:\n",
    "    print(item+\"을(를) 확인했습니다.\")\n",
    "    print(\"창닫기\")"
   ]
  },
  {
   "cell_type": "code",
   "execution_count": 3,
   "id": "3fbf0d17",
   "metadata": {},
   "outputs": [
    {
     "name": "stdout",
     "output_type": "stream",
     "text": [
      "6\n",
      "8\n",
      "10\n"
     ]
    }
   ],
   "source": [
    "num_list = [1,2,3,4,5]\n",
    "\n",
    "for num in num_list:\n",
    "    if num > 2:\n",
    "        print(num*2)"
   ]
  },
  {
   "cell_type": "code",
   "execution_count": null,
   "id": "d19b83fb",
   "metadata": {},
   "outputs": [],
   "source": [
    "#2차원 리스트\n",
    "game_map = [\n",
    "    [\"대검\",\"포지션\",None],\n",
    "    [None,\"보물상자\",\"포션\"],\n",
    "    [\"몬스터\",None,\"열쇠\"]\n",
    "]\n",
    "\n",
    "game_map[0][1]\n",
    "game_map[1][2]"
   ]
  },
  {
   "cell_type": "code",
   "execution_count": 9,
   "id": "a73f769c",
   "metadata": {},
   "outputs": [
    {
     "name": "stdout",
     "output_type": "stream",
     "text": [
      "최고 점수 :  200\n"
     ]
    }
   ],
   "source": [
    "#게임에서 플레이어가 얻은 점수들을 가진 scores 리스트가 있다. \n",
    "# 가장 높은 점수를 찾는 프로그램 작성.\n",
    "\n",
    "scores = [120, 150, 180, 200, 170]\n",
    "max_score = 0\n",
    "\n",
    "for score in scores:\n",
    "    if score > max_score:\n",
    "        max_score = score\n",
    "print(f\"최고 점수 :  {max_score}\")"
   ]
  },
  {
   "cell_type": "code",
   "execution_count": 11,
   "id": "88827ffc",
   "metadata": {},
   "outputs": [
    {
     "data": {
      "text/plain": [
       "200"
      ]
     },
     "execution_count": 11,
     "metadata": {},
     "output_type": "execute_result"
    }
   ],
   "source": [
    "max(scores)"
   ]
  },
  {
   "cell_type": "code",
   "execution_count": 13,
   "id": "727ebc61",
   "metadata": {},
   "outputs": [
    {
     "name": "stdout",
     "output_type": "stream",
     "text": [
      "6\n",
      "3\n",
      "6\n"
     ]
    }
   ],
   "source": [
    "#게임에서 각 방에 숨겨진 아이템 개수를 나타내는 2차원 리스트가 있다.\n",
    "#모든 방을 돌아다니며 아이템을 수집하는 프로그램을 작성하시오.\n",
    "#아이템이 없는 방은 0으로 표시된다.\n",
    "#힌트) sum(리스트)는 리스트의 합계를 계산\n",
    "rooms = [\n",
    "    [3,1,2],\n",
    "    [2,0,1],\n",
    "    [1,3,2]\n",
    "]\n",
    "\n",
    "for room in rooms:\n",
    "    print(sum(room))"
   ]
  },
  {
   "cell_type": "code",
   "execution_count": 14,
   "id": "2d71b5d3",
   "metadata": {},
   "outputs": [
    {
     "name": "stdout",
     "output_type": "stream",
     "text": [
      "15\n"
     ]
    }
   ],
   "source": [
    "rooms = [\n",
    "    [3,1,2],\n",
    "    [2,0,1],\n",
    "    [1,3,2]\n",
    "]\n",
    "\n",
    "total = 0\n",
    "for room in rooms:\n",
    "    total = total + sum(room)\n",
    "print(total)"
   ]
  }
 ],
 "metadata": {
  "kernelspec": {
   "display_name": "Python 3",
   "language": "python",
   "name": "python3"
  },
  "language_info": {
   "codemirror_mode": {
    "name": "ipython",
    "version": 3
   },
   "file_extension": ".py",
   "mimetype": "text/x-python",
   "name": "python",
   "nbconvert_exporter": "python",
   "pygments_lexer": "ipython3",
   "version": "3.12.0"
  }
 },
 "nbformat": 4,
 "nbformat_minor": 5
}
