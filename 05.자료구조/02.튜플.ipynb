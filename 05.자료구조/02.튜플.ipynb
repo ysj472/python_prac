{
 "cells": [
  {
   "cell_type": "code",
   "execution_count": null,
   "metadata": {},
   "outputs": [],
   "source": [
    "#튜플: 여러개의 데이터를 저장할 수 있지만 고정되어 있는 자료형\n",
    "#튜플 만드는법: 변수 = (데이터,데이터,데이터)\n",
    "#튜플 사용 이유: \n",
    "#- 데이터 보호: 실수로 데이터가 변경될 위험을 방지할 수 있다\n",
    "#- 성능: 리스트에 비해 더 적은 메모리를 사용하고 빠르다"
   ]
  },
  {
   "cell_type": "code",
   "execution_count": 11,
   "metadata": {},
   "outputs": [
    {
     "data": {
      "text/plain": [
       "{'삼성전자': 81000, 'sk하이닉스': 14000, '네이버': 350000}"
      ]
     },
     "execution_count": 11,
     "metadata": {},
     "output_type": "execute_result"
    }
   ],
   "source": [
    "#딕셔너리: 키와 값을 쌍으로 가지는 사전형태의 자료형\n",
    "#딕셔너리 만드는 법(key:값,key:값,key:값....)\n",
    "stock_prices = {\n",
    "    '삼성전자':81000,\n",
    "    'sk하이닉스':14000,\n",
    "    '네이버':350000\n",
    "}\n",
    "\n",
    "#대괄호[] - 리스트\n",
    "#소괄호() - 튜플\n",
    "#중괄호{} - 딕셔너리\n",
    "\n",
    "stock_prices"
   ]
  },
  {
   "cell_type": "code",
   "execution_count": 3,
   "metadata": {},
   "outputs": [
    {
     "name": "stdout",
     "output_type": "stream",
     "text": [
      "삼성전자\n",
      "sk하이닉스\n",
      "네이버\n"
     ]
    }
   ],
   "source": [
    "#딕셔너리 순회 명령어\n",
    "for key in stock_prices.keys():\n",
    "    print(key)"
   ]
  },
  {
   "cell_type": "code",
   "execution_count": 5,
   "metadata": {},
   "outputs": [
    {
     "name": "stdout",
     "output_type": "stream",
     "text": [
      "81000\n",
      "14000\n",
      "350000\n"
     ]
    }
   ],
   "source": [
    "for value in stock_prices.values():\n",
    "    print(value)"
   ]
  },
  {
   "cell_type": "code",
   "execution_count": 6,
   "metadata": {},
   "outputs": [
    {
     "name": "stdout",
     "output_type": "stream",
     "text": [
      "삼성전자 81000\n",
      "sk하이닉스 14000\n",
      "네이버 350000\n"
     ]
    }
   ],
   "source": [
    "for key, value in stock_prices.items():\n",
    "    print(key, value)"
   ]
  },
  {
   "cell_type": "code",
   "execution_count": 7,
   "metadata": {},
   "outputs": [
    {
     "data": {
      "text/plain": [
       "('스쿼트', '런지', '레그컬')"
      ]
     },
     "execution_count": 7,
     "metadata": {},
     "output_type": "execute_result"
    }
   ],
   "source": [
    "#튜플\n",
    "leg_day = (\"스쿼트\",\"런지\",\"레그컬\")\n",
    "leg_day"
   ]
  },
  {
   "cell_type": "code",
   "execution_count": null,
   "metadata": {},
   "outputs": [
    {
     "ename": "TypeError",
     "evalue": "'tuple' object does not support item assignment",
     "output_type": "error",
     "traceback": [
      "\u001b[1;31m---------------------------------------------------------------------------\u001b[0m",
      "\u001b[1;31mTypeError\u001b[0m                                 Traceback (most recent call last)",
      "Cell \u001b[1;32mIn[8], line 1\u001b[0m\n\u001b[1;32m----> 1\u001b[0m \u001b[43mleg_day\u001b[49m\u001b[43m[\u001b[49m\u001b[38;5;241;43m0\u001b[39;49m\u001b[43m]\u001b[49m \u001b[38;5;241m=\u001b[39m \u001b[38;5;124m\"\u001b[39m\u001b[38;5;124m벤치\u001b[39m\u001b[38;5;124m\"\u001b[39m\n",
      "\u001b[1;31mTypeError\u001b[0m: 'tuple' object does not support item assignment"
     ]
    }
   ],
   "source": [
    "leg_day[0] = \"벤치\" #튜플은 아이템 할당을 제공하지 않음"
   ]
  },
  {
   "cell_type": "code",
   "execution_count": null,
   "metadata": {},
   "outputs": [
    {
     "ename": "AttributeError",
     "evalue": "'tuple' object has no attribute 'append'",
     "output_type": "error",
     "traceback": [
      "\u001b[1;31m---------------------------------------------------------------------------\u001b[0m",
      "\u001b[1;31mAttributeError\u001b[0m                            Traceback (most recent call last)",
      "Cell \u001b[1;32mIn[9], line 1\u001b[0m\n\u001b[1;32m----> 1\u001b[0m \u001b[43mleg_day\u001b[49m\u001b[38;5;241;43m.\u001b[39;49m\u001b[43mappend\u001b[49m(\u001b[38;5;124m\"\u001b[39m\u001b[38;5;124m숄더프레스\u001b[39m\u001b[38;5;124m\"\u001b[39m)\n",
      "\u001b[1;31mAttributeError\u001b[0m: 'tuple' object has no attribute 'append'"
     ]
    }
   ],
   "source": [
    "leg_day.append(\"숄더프레스\") #튜플은 append 허용 x"
   ]
  },
  {
   "cell_type": "code",
   "execution_count": null,
   "metadata": {},
   "outputs": [
    {
     "ename": "TypeError",
     "evalue": "'tuple' object doesn't support item deletion",
     "output_type": "error",
     "traceback": [
      "\u001b[1;31m---------------------------------------------------------------------------\u001b[0m",
      "\u001b[1;31mTypeError\u001b[0m                                 Traceback (most recent call last)",
      "Cell \u001b[1;32mIn[10], line 1\u001b[0m\n\u001b[1;32m----> 1\u001b[0m \u001b[38;5;28;01mdel\u001b[39;00m \u001b[43mleg_day\u001b[49m\u001b[43m[\u001b[49m\u001b[38;5;241;43m0\u001b[39;49m\u001b[43m]\u001b[49m\n",
      "\u001b[1;31mTypeError\u001b[0m: 'tuple' object doesn't support item deletion"
     ]
    }
   ],
   "source": [
    "del leg_day[0] #튜플은 삭제도 안됨"
   ]
  },
  {
   "cell_type": "code",
   "execution_count": null,
   "metadata": {},
   "outputs": [],
   "source": [
    "#딕셔너리\n",
    "stock_prices"
   ]
  },
  {
   "cell_type": "code",
   "execution_count": 24,
   "metadata": {},
   "outputs": [
    {
     "name": "stdout",
     "output_type": "stream",
     "text": [
      "#삼성전자 평균 주식 가격: 81500\n",
      "#sk하이닉스 평균 주식 가격: 140166\n",
      "#네이버 평균 주식 가격: 350000\n"
     ]
    }
   ],
   "source": [
    "stock_prices = {\n",
    "    '삼성전자':[81000,81500,82000],\n",
    "    'sk하이닉스':[140000,141000,139500],\n",
    "    '네이버':[350000,355000,345000]\n",
    "}\n",
    "\n",
    "for key, value in stock_prices.items():\n",
    "    avg = sum(value) / len(value)\n",
    "    print(f\"#{key} 평균 주식 가격: {int(avg)}\")\n",
    "    "
   ]
  },
  {
   "cell_type": "code",
   "execution_count": 29,
   "metadata": {},
   "outputs": [
    {
     "name": "stdout",
     "output_type": "stream",
     "text": [
      "85000\n",
      "80000\n",
      "82000\n",
      "145000\n",
      "139000\n",
      "140500\n",
      "360000\n",
      "340000\n",
      "350000\n"
     ]
    }
   ],
   "source": [
    "stocks_info = {\n",
    "    '삼성전자' : {'최고가': 85000, '최저가': 80000, '현재가': 82000},\n",
    "    'sk하이닉스' : {'최고가': 145000, '최저가': 139000, '현재가': 140500},\n",
    "    '네이버' : {'최고가': 360000, '최저가': 340000, '현재가': 350000}\n",
    "}\n",
    "\n",
    "for key, value in stocks_info.items():\n",
    "    print(value['최고가'])\n",
    "    print(value['최저가'])\n",
    "    print(value['현재가'])"
   ]
  },
  {
   "cell_type": "code",
   "execution_count": 30,
   "metadata": {},
   "outputs": [
    {
     "name": "stdout",
     "output_type": "stream",
     "text": [
      "삼성전자 - 최고가: 85000, 최저가: 80000\n",
      "sk하이닉스 - 최고가: 145000, 최저가: 139000\n",
      "네이버 - 최고가: 360000, 최저가: 340000\n"
     ]
    }
   ],
   "source": [
    "stocks_info = {\n",
    "    '삼성전자' : {'최고가': 85000, '최저가': 80000, '현재가': 82000},\n",
    "    'sk하이닉스' : {'최고가': 145000, '최저가': 139000, '현재가': 140500},\n",
    "    '네이버' : {'최고가': 360000, '최저가': 340000, '현재가': 350000}\n",
    "}\n",
    "\n",
    "for key, value in stocks_info.items():\n",
    "    max_value = value['최고가']\n",
    "    min_value = value['최저가']\n",
    "    print(f\"{key} - 최고가: {max_value}, 최저가: {min_value}\")"
   ]
  }
 ],
 "metadata": {
  "kernelspec": {
   "display_name": "Python 3",
   "language": "python",
   "name": "python3"
  },
  "language_info": {
   "codemirror_mode": {
    "name": "ipython",
    "version": 3
   },
   "file_extension": ".py",
   "mimetype": "text/x-python",
   "name": "python",
   "nbconvert_exporter": "python",
   "pygments_lexer": "ipython3",
   "version": "3.12.0"
  }
 },
 "nbformat": 4,
 "nbformat_minor": 2
}
