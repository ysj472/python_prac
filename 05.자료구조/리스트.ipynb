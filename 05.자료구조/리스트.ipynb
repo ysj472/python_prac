{
 "cells": [
  {
   "cell_type": "code",
   "execution_count": null,
   "id": "96a4698a",
   "metadata": {},
   "outputs": [],
   "source": [
    "#리스트 만드는법\n",
    "변수 = [데이터,데이터,데이터]"
   ]
  },
  {
   "cell_type": "code",
   "execution_count": null,
   "id": "67d42f78",
   "metadata": {},
   "outputs": [
    {
     "data": {
      "text/plain": [
       "'네이버'"
      ]
     },
     "execution_count": 1,
     "metadata": {},
     "output_type": "execute_result"
    }
   ],
   "source": [
    "#데이터에 접근하기(인덱싱, indexing)\n",
    "company_list=[\"삼성전자\",\"sk하이닉스\",\"네이버\"]\n",
    "company_list[0]#인덱스번호(0부터 시작)\n",
    "company_list[1]\n",
    "company_list[2]"
   ]
  },
  {
   "cell_type": "code",
   "execution_count": 9,
   "id": "85f653ff",
   "metadata": {},
   "outputs": [],
   "source": [
    "#데이터에 추가하기\n",
    "company_list=[\"애플\",\"구글\",\"테슬라\"]\n",
    "company_list.append(\"마이크로소프트\")"
   ]
  },
  {
   "cell_type": "code",
   "execution_count": 7,
   "id": "7ebfd50a",
   "metadata": {},
   "outputs": [],
   "source": [
    "#데이터에 삭제하기\n",
    "company_list=[\"애플\",\"구글\",\"테슬라\"]\n",
    "del company_list[0]"
   ]
  },
  {
   "cell_type": "code",
   "execution_count": null,
   "id": "b25dcfa3",
   "metadata": {},
   "outputs": [
    {
     "data": {
      "text/plain": [
       "2"
      ]
     },
     "execution_count": 11,
     "metadata": {},
     "output_type": "execute_result"
    }
   ],
   "source": [
    "#리스트 길이\n",
    "company_list=[\"애플\",\"구글\",\"테슬라\"]\n",
    "len(company_list)"
   ]
  },
  {
   "cell_type": "code",
   "execution_count": null,
   "id": "ebb3d9d0",
   "metadata": {},
   "outputs": [],
   "source": [
    "#리스트 슬라이싱(slicing)\n",
    "num_list = [1,2,3,4,5,6,7,8]\n",
    "num_list[start:end]\n",
    "num_list[start:end:step]"
   ]
  },
  {
   "cell_type": "code",
   "execution_count": 1,
   "id": "f84ef989",
   "metadata": {},
   "outputs": [
    {
     "data": {
      "text/plain": [
       "['삼성전자', 'sk하이닉스', '네이버']"
      ]
     },
     "execution_count": 1,
     "metadata": {},
     "output_type": "execute_result"
    }
   ],
   "source": [
    "company_list=[\"삼성전자\",\"sk하이닉스\",\"네이버\"]\n",
    "company_list"
   ]
  },
  {
   "cell_type": "code",
   "execution_count": null,
   "id": "e551be5d",
   "metadata": {},
   "outputs": [
    {
     "data": {
      "text/plain": [
       "'네이버'"
      ]
     },
     "execution_count": 2,
     "metadata": {},
     "output_type": "execute_result"
    }
   ],
   "source": [
    "company_list[0]\n",
    "company_list[1]\n",
    "company_list[-1]#-1은 마지막 원소를 찾음"
   ]
  },
  {
   "cell_type": "code",
   "execution_count": 4,
   "id": "56f2c071",
   "metadata": {},
   "outputs": [
    {
     "data": {
      "text/plain": [
       "['애플', '구글', '테슬라']"
      ]
     },
     "execution_count": 4,
     "metadata": {},
     "output_type": "execute_result"
    }
   ],
   "source": [
    "company_list[0]=\"애플\"\n",
    "company_list[1]=\"구글\"\n",
    "company_list[2]=\"테슬라\"\n",
    "company_list"
   ]
  },
  {
   "cell_type": "code",
   "execution_count": 5,
   "id": "a064bb32",
   "metadata": {},
   "outputs": [
    {
     "data": {
      "text/plain": [
       "['애플', '구글', '테슬라', '마이크로소프트']"
      ]
     },
     "execution_count": 5,
     "metadata": {},
     "output_type": "execute_result"
    }
   ],
   "source": [
    "company_list.append(\"마이크로소프트\")\n",
    "company_list"
   ]
  },
  {
   "cell_type": "code",
   "execution_count": 6,
   "id": "069f3327",
   "metadata": {},
   "outputs": [
    {
     "data": {
      "text/plain": [
       "['구글', '테슬라', '마이크로소프트']"
      ]
     },
     "execution_count": 6,
     "metadata": {},
     "output_type": "execute_result"
    }
   ],
   "source": [
    "del company_list[0]\n",
    "company_list"
   ]
  },
  {
   "cell_type": "code",
   "execution_count": 15,
   "id": "070368c1",
   "metadata": {},
   "outputs": [
    {
     "data": {
      "text/plain": [
       "3"
      ]
     },
     "execution_count": 15,
     "metadata": {},
     "output_type": "execute_result"
    }
   ],
   "source": [
    "len (company_list)"
   ]
  },
  {
   "cell_type": "code",
   "execution_count": 16,
   "id": "f559c103",
   "metadata": {},
   "outputs": [
    {
     "data": {
      "text/plain": [
       "[1, 3, 5, 7]"
      ]
     },
     "execution_count": 16,
     "metadata": {},
     "output_type": "execute_result"
    }
   ],
   "source": [
    "#slicing\n",
    "num_list = [1,2,3,4,5,6,7,8]\n",
    "num_list[0:2]\n",
    "num_list[:2]#0생략가능\n",
    "num_list[1:4]#인덱스 0번째는 생략\n",
    "num_list[3:8]\n",
    "num_list[3:]#마지막 생략 가능\n",
    "num_list[::2]"
   ]
  },
  {
   "cell_type": "code",
   "execution_count": 17,
   "id": "6b15de23",
   "metadata": {},
   "outputs": [
    {
     "name": "stdout",
     "output_type": "stream",
     "text": [
      "대검을(를) 확인했습니다.\n",
      "창닫기\n",
      "포션을(를) 확인했습니다.\n",
      "창닫기\n",
      "마법서을(를) 확인했습니다.\n",
      "창닫기\n"
     ]
    }
   ],
   "source": [
    "#for문에서의 리스트 활용\n",
    "inventory = [\"대검\",\"포션\",\"마법서\"]\n",
    "\n",
    "for item in inventory:\n",
    "    print(item+\"을(를) 확인했습니다.\")\n",
    "    print(\"창닫기\")"
   ]
  },
  {
   "cell_type": "code",
   "execution_count": null,
   "id": "3fbf0d17",
   "metadata": {},
   "outputs": [],
   "source": []
  }
 ],
 "metadata": {
  "kernelspec": {
   "display_name": "Python 3",
   "language": "python",
   "name": "python3"
  },
  "language_info": {
   "codemirror_mode": {
    "name": "ipython",
    "version": 3
   },
   "file_extension": ".py",
   "mimetype": "text/x-python",
   "name": "python",
   "nbconvert_exporter": "python",
   "pygments_lexer": "ipython3",
   "version": "3.13.3"
  }
 },
 "nbformat": 4,
 "nbformat_minor": 5
}
